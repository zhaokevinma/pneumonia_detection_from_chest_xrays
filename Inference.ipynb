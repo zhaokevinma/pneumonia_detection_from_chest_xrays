{
 "cells": [
  {
   "cell_type": "markdown",
   "metadata": {},
   "source": [
    "## This notebook performs the following steps for inference:\n",
    "* Read pixel data from dicom images \n",
    "* Preprocess images with normalization and standardization + make image 224, 224, 3 to suit the model input format\n",
    "* Load our built and trained model\n",
    "* Predict whether the patient has pneumonia from his or her chest X-ray"
   ]
  },
  {
   "cell_type": "code",
   "execution_count": 1,
   "metadata": {},
   "outputs": [
    {
     "name": "stderr",
     "output_type": "stream",
     "text": [
      "Using TensorFlow backend.\n"
     ]
    }
   ],
   "source": [
    "# Import dependencies\n",
    "import numpy as np\n",
    "import pandas as pd\n",
    "import pydicom\n",
    "%matplotlib inline\n",
    "import matplotlib.pyplot as plt\n",
    "import keras \n",
    "from skimage.transform import rescale "
   ]
  },
  {
   "cell_type": "code",
   "execution_count": 2,
   "metadata": {},
   "outputs": [],
   "source": [
    "def check_dicom(filename): \n",
    "    \n",
    "    \"\"\"Reads in a .dcm file and returns a numpy array of just the imaging data\"\"\"\n",
    "    \n",
    "    print('Load file {} ...'.format(filename))\n",
    "    ds = pydicom.dcmread(filename)       \n",
    "    img = ds.pixel_array\n",
    "    \n",
    "    ## TO DO:\n",
    "    ## Check other field of the dicom to make sure the file agrees with our expected input\n",
    "    \n",
    "    return img\n",
    "    \n",
    "def preprocess_image(img,img_mean,img_std,img_size):\n",
    "    \n",
    "    \"\"\"Takes the numpy array output by check_dicom and runs the appropriate pre-processing needed for our model input\"\"\"\n",
    "    \n",
    "    img = img / 255.0\n",
    "    gray_img = (img - img_mean) / img_std\n",
    "    gray_img = rescale(gray_img, 0.21875, anti_aliasing=True)\n",
    "    \n",
    "    proc_img = np.zeros((224, 224, 3))\n",
    "    \n",
    "    proc_img[:, :, 0] = gray_img\n",
    "    proc_img[:, :, 1] = gray_img\n",
    "    proc_img[:, :, 2] = gray_img\n",
    "    proc_img = np.resize(proc_img, (1, 224, 224, 3))\n",
    "    \n",
    "    return proc_img\n",
    "  \n",
    "def load_model(model_path, weight_path):\n",
    "    \n",
    "    \"\"\"Loads in our trained model w/ weights and compiles it\"\"\"\n",
    "    \n",
    "    json_file = open(model_path, 'r')\n",
    "    loaded_model_json = json_file.read()\n",
    "    json_file.close()\n",
    "    \n",
    "    my_model = keras.models.model_from_json(loaded_model_json)\n",
    "    \n",
    "    my_model.load_weights(weight_path)\n",
    "    \n",
    "    return my_model\n",
    "\n",
    "# This function uses our device's threshold parameters to \n",
    "def predict_image(model, img, thresh): \n",
    "    \n",
    "    \"\"\"Predict whether or not the image shows the presence of pneumonia using our trained model\"\"\"\n",
    "    \n",
    "    result = model.predict(img)\n",
    "    predict = result[0]\n",
    "    prediction = 'No Pneumonia'\n",
    "    \n",
    "    if (predict > thresh):\n",
    "        prediction = 'Pneumonia'\n",
    "    \n",
    "    return prediction "
   ]
  },
  {
   "cell_type": "code",
   "execution_count": 3,
   "metadata": {},
   "outputs": [
    {
     "name": "stdout",
     "output_type": "stream",
     "text": [
      "Load file test1.dcm ...\n",
      "No Pneumonia\n",
      "Load file test2.dcm ...\n",
      "No Pneumonia\n",
      "Load file test3.dcm ...\n",
      "No Pneumonia\n",
      "Load file test4.dcm ...\n",
      "No Pneumonia\n",
      "Load file test5.dcm ...\n",
      "No Pneumonia\n",
      "Load file test6.dcm ...\n",
      "No Pneumonia\n"
     ]
    }
   ],
   "source": [
    "test_dicoms = ['test1.dcm','test2.dcm','test3.dcm','test4.dcm','test5.dcm','test6.dcm']\n",
    "\n",
    "model_path = 'my_model.json'\n",
    "weight_path = 'xray_class_my_model.best.hdf5'\n",
    "\n",
    "IMG_SIZE=(1,224,224,3) # This might be different if you did not use vgg16\n",
    "img_mean = 0.53\n",
    "img_std = 0.24\n",
    "\n",
    "my_model = load_model(model_path, weight_path)\n",
    "thresh = 0.38\n",
    "\n",
    "## Use the .dcm files to test your prediction\n",
    "for i in test_dicoms:\n",
    "    \n",
    "    img = np.array([])\n",
    "    img = check_dicom(i)\n",
    "    \n",
    "    if img is None:\n",
    "        continue\n",
    "        \n",
    "    img_proc = preprocess_image(img,img_mean,img_std,IMG_SIZE)\n",
    "    pred = predict_image(my_model,img_proc,thresh)\n",
    "    \n",
    "    print(pred)"
   ]
  },
  {
   "cell_type": "code",
   "execution_count": null,
   "metadata": {},
   "outputs": [],
   "source": []
  }
 ],
 "metadata": {
  "kernelspec": {
   "display_name": "Python 3",
   "language": "python",
   "name": "python3"
  },
  "language_info": {
   "codemirror_mode": {
    "name": "ipython",
    "version": 3
   },
   "file_extension": ".py",
   "mimetype": "text/x-python",
   "name": "python",
   "nbconvert_exporter": "python",
   "pygments_lexer": "ipython3",
   "version": "3.7.6"
  }
 },
 "nbformat": 4,
 "nbformat_minor": 2
}
