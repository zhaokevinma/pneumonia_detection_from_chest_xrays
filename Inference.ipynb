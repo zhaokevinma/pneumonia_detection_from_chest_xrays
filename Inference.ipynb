{
 "cells": [
  {
   "cell_type": "markdown",
   "metadata": {},
   "source": [
    "## This notebook performs the following steps for inference:\n",
    "* Read pixel data from dicom images and check whether data has valid attributes that agree with our model training\n",
    "* Preprocess images with normalization and standardization + make image 224, 224, 3 to suit the model input format\n",
    "* Load our built and trained model and predict whether the patient has pneumonia from his or her chest X-ray"
   ]
  },
  {
   "cell_type": "code",
   "execution_count": 1,
   "metadata": {},
   "outputs": [
    {
     "name": "stderr",
     "output_type": "stream",
     "text": [
      "Using TensorFlow backend.\n"
     ]
    }
   ],
   "source": [
    "# Import dependencies\n",
    "import numpy as np\n",
    "import pandas as pd\n",
    "import pydicom\n",
    "%matplotlib inline\n",
    "import matplotlib.pyplot as plt\n",
    "import keras \n",
    "from skimage.transform import rescale "
   ]
  },
  {
   "cell_type": "code",
   "execution_count": 2,
   "metadata": {},
   "outputs": [],
   "source": [
    "sample = pydicom.dcmread('test1.dcm')"
   ]
  },
  {
   "cell_type": "code",
   "execution_count": 3,
   "metadata": {},
   "outputs": [
    {
     "name": "stdout",
     "output_type": "stream",
     "text": [
      "(0008, 0016) SOP Class UID                       UI: Secondary Capture Image Storage\n",
      "(0008, 0018) SOP Instance UID                    UI: 1.3.6.1.4.1.11129.5.5.110503645592756492463169821050252582267888\n",
      "(0008, 0060) Modality                            CS: 'DX'\n",
      "(0008, 1030) Study Description                   LO: 'No Finding'\n",
      "(0010, 0020) Patient ID                          LO: '2'\n",
      "(0010, 0040) Patient's Sex                       CS: 'M'\n",
      "(0010, 1010) Patient's Age                       AS: '81'\n",
      "(0018, 0015) Body Part Examined                  CS: 'CHEST'\n",
      "(0018, 5100) Patient Position                    CS: 'PA'\n",
      "(0020, 000d) Study Instance UID                  UI: 1.3.6.1.4.1.11129.5.5.112507010803284478207522016832191866964708\n",
      "(0020, 000e) Series Instance UID                 UI: 1.3.6.1.4.1.11129.5.5.112630850362182468372440828755218293352329\n",
      "(0028, 0002) Samples per Pixel                   US: 1\n",
      "(0028, 0004) Photometric Interpretation          CS: 'MONOCHROME2'\n",
      "(0028, 0010) Rows                                US: 1024\n",
      "(0028, 0011) Columns                             US: 1024\n",
      "(0028, 0100) Bits Allocated                      US: 8\n",
      "(0028, 0101) Bits Stored                         US: 8\n",
      "(0028, 0102) High Bit                            US: 7\n",
      "(0028, 0103) Pixel Representation                US: 0\n",
      "(7fe0, 0010) Pixel Data                          OW: Array of 1048576 elements\n"
     ]
    }
   ],
   "source": [
    "print(sample)"
   ]
  },
  {
   "cell_type": "code",
   "execution_count": 4,
   "metadata": {},
   "outputs": [],
   "source": [
    "def check_dicom(filename): \n",
    "    \n",
    "    \"\"\"Reads in a .dcm file and returns a numpy array of just the imaging data. Also check for attributes.\"\"\"\n",
    "    \n",
    "    print('Load file {} ...'.format(filename))\n",
    "    ds = pydicom.dcmread(filename)       \n",
    "    img = ds.pixel_array\n",
    "    \n",
    "    if ds.StudyDescription:\n",
    "        print(f'Radiologist thinks: {ds.StudyDescription}')      \n",
    "    \n",
    "    ## The chosen attributes to check depends on what data you want your algo to be used on\n",
    "    ## In our case, we only care about whether it is a chest X-ray taken in AP or PA position\n",
    "    if ds.Modality not in ['DX', 'CT']:\n",
    "        print('Invalid modality...')\n",
    "        return None\n",
    "    \n",
    "    if ds.PatientPosition not in ['AP', 'PA']:\n",
    "        print('Invalid patient position...')\n",
    "        return None\n",
    "    \n",
    "    if ds.BodyPartExamined not in ['CHEST', 'RIBCAGE']:\n",
    "        print('Invalid body part examined...')\n",
    "        return None\n",
    "    \n",
    "    return img\n",
    "    \n",
    "def preprocess_image(img,img_mean,img_std,img_size):\n",
    "    \n",
    "    \"\"\"Takes the numpy array output by check_dicom and runs the appropriate pre-processing needed for our model input\"\"\"\n",
    "    \n",
    "    img = img / 255.0\n",
    "    gray_img = (img - img_mean) / img_std\n",
    "    gray_img = rescale(gray_img, 0.21875, anti_aliasing=True)\n",
    "    \n",
    "    proc_img = np.zeros((224, 224, 3))\n",
    "    \n",
    "    proc_img[:, :, 0] = gray_img\n",
    "    proc_img[:, :, 1] = gray_img\n",
    "    proc_img[:, :, 2] = gray_img\n",
    "    proc_img = np.resize(proc_img, (1, 224, 224, 3))\n",
    "    \n",
    "    return proc_img\n",
    "  \n",
    "def load_model(model_path, weight_path):\n",
    "    \n",
    "    \"\"\"Loads in our trained model w/ weights and compiles it\"\"\"\n",
    "    \n",
    "    json_file = open(model_path, 'r')\n",
    "    loaded_model_json = json_file.read()\n",
    "    json_file.close()\n",
    "    \n",
    "    my_model = keras.models.model_from_json(loaded_model_json)\n",
    "    \n",
    "    my_model.load_weights(weight_path)\n",
    "    \n",
    "    return my_model\n",
    "\n",
    "# This function uses our device's threshold parameters to \n",
    "def predict_image(model, img, thresh): \n",
    "    \n",
    "    \"\"\"Predict whether or not the image shows the presence of pneumonia using our trained model\"\"\"\n",
    "    \n",
    "    result = model.predict(img)\n",
    "    predict = result[0]\n",
    "    prediction = 'No Pneumonia'\n",
    "    \n",
    "    if (predict > thresh):\n",
    "        prediction = 'Pneumonia'\n",
    "    \n",
    "    return prediction "
   ]
  },
  {
   "cell_type": "code",
   "execution_count": 5,
   "metadata": {},
   "outputs": [
    {
     "name": "stdout",
     "output_type": "stream",
     "text": [
      "Load file test1.dcm ...\n",
      "Radiologist thinks: No Finding\n",
      "Algorithm predicts: No Pneumonia\n",
      "Load file test2.dcm ...\n",
      "Radiologist thinks: Cardiomegaly\n",
      "Algorithm predicts: No Pneumonia\n",
      "Load file test3.dcm ...\n",
      "Radiologist thinks: Effusion\n",
      "Algorithm predicts: Pneumonia\n",
      "Load file test4.dcm ...\n",
      "Radiologist thinks: No Finding\n",
      "Algorithm predicts: No Pneumonia\n",
      "Load file test5.dcm ...\n",
      "Radiologist thinks: No Finding\n",
      "Algorithm predicts: No Pneumonia\n",
      "Load file test6.dcm ...\n",
      "Radiologist thinks: No Finding\n",
      "Invalid patient position...\n"
     ]
    }
   ],
   "source": [
    "test_dicoms = ['test1.dcm','test2.dcm','test3.dcm','test4.dcm','test5.dcm','test6.dcm']\n",
    "\n",
    "model_path = 'my_model.json'\n",
    "weight_path = 'xray_class_my_model.best.hdf5'\n",
    "\n",
    "IMG_SIZE=(1,224,224,3) # This might be different if you did not use vgg16\n",
    "img_mean = 0.53\n",
    "img_std = 0.24\n",
    "\n",
    "my_model = load_model(model_path, weight_path)\n",
    "thresh = 0.6703287\n",
    "\n",
    "## Use the .dcm files to test your prediction\n",
    "for i in test_dicoms:\n",
    "    \n",
    "    img = np.array([])\n",
    "    img = check_dicom(i)\n",
    "    \n",
    "    if img is None:\n",
    "        continue\n",
    "        \n",
    "    img_proc = preprocess_image(img,img_mean,img_std,IMG_SIZE)\n",
    "    pred = predict_image(my_model,img_proc,thresh)\n",
    "    \n",
    "    print(f'Algorithm predicts: {pred}')"
   ]
  },
  {
   "cell_type": "markdown",
   "metadata": {},
   "source": [
    "**Seems like we were able to get some predictions from our trained network. Detecting Pneumonia is hard even for experienced radiologists so it is okay if our model is not perfect. One thing to notice is that test6.dcm does not have the correct Patient Position attribute that our model was trained on. Even though it looks similar to what we were expecting from 'AP' or 'PA' positioned patients, it's better that we do not use our model to make any inference on it. And we can see that our model confuses itself with pneumonia and effusion, which is quite common in a clinical setting since the distinct features of effusion and pneumonia are quite similar.**"
   ]
  }
 ],
 "metadata": {
  "kernelspec": {
   "display_name": "Python 3",
   "language": "python",
   "name": "python3"
  },
  "language_info": {
   "codemirror_mode": {
    "name": "ipython",
    "version": 3
   },
   "file_extension": ".py",
   "mimetype": "text/x-python",
   "name": "python",
   "nbconvert_exporter": "python",
   "pygments_lexer": "ipython3",
   "version": "3.7.6"
  }
 },
 "nbformat": 4,
 "nbformat_minor": 2
}
